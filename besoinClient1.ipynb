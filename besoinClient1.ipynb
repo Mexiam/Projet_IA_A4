{
 "cells": [
  {
   "cell_type": "code",
   "execution_count": null,
   "id": "43dd9cf1",
   "metadata": {},
   "outputs": [],
   "source": [
    "import pandas as pd\n",
    "data = pd.read_csv('donnees_nettoyees.csv', sep=\";\")\n",
    "print(type(data))\n",
    "\n",
    "print(data.head(5))"
   ]
  }
 ],
 "metadata": {
  "language_info": {
   "name": "python"
  }
 },
 "nbformat": 4,
 "nbformat_minor": 5
}
